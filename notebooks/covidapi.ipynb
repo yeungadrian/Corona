{
 "cells": [
  {
   "cell_type": "code",
   "execution_count": 1,
   "metadata": {},
   "outputs": [],
   "source": [
    "import requests"
   ]
  },
  {
   "cell_type": "code",
   "execution_count": 2,
   "metadata": {},
   "outputs": [],
   "source": [
    "covid_request = 'https://api.covid19api.com/summary'\n",
    "\n",
    "response = requests.get(covid_request).json()"
   ]
  },
  {
   "cell_type": "code",
   "execution_count": 6,
   "metadata": {},
   "outputs": [
    {
     "output_type": "execute_result",
     "data": {
      "text/plain": "{'NewConfirmed': 160950,\n 'TotalConfirmed': 9054785,\n 'NewDeaths': 3882,\n 'TotalDeaths': 476796,\n 'NewRecovered': 69747,\n 'TotalRecovered': 4435028}"
     },
     "metadata": {},
     "execution_count": 6
    }
   ],
   "source": [
    "response['Global']"
   ]
  },
  {
   "cell_type": "code",
   "execution_count": null,
   "metadata": {},
   "outputs": [],
   "source": []
  }
 ],
 "metadata": {
  "language_info": {
   "codemirror_mode": {
    "name": "ipython",
    "version": 3
   },
   "file_extension": ".py",
   "mimetype": "text/x-python",
   "name": "python",
   "nbconvert_exporter": "python",
   "pygments_lexer": "ipython3",
   "version": "3.7.7-final"
  },
  "orig_nbformat": 2,
  "kernelspec": {
   "name": "python37764bitvenvvenve6ed739dd3d845b2a8e33e9c24709756",
   "display_name": "Python 3.7.7 64-bit ('venv': venv)"
  }
 },
 "nbformat": 4,
 "nbformat_minor": 2
}